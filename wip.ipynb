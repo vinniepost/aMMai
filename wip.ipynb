{
 "cells": [
  {
   "cell_type": "markdown",
   "metadata": {},
   "source": [
    "# aMMai \n",
    "aMMai is a multimodel ai that takes an image as input, analyzes it and returns visual features of that image. With those features it will then try and make a text describing what happens in the image."
   ]
  },
  {
   "cell_type": "markdown",
   "metadata": {},
   "source": [
    "## Feature extraction from image"
   ]
  },
  {
   "cell_type": "markdown",
   "metadata": {},
   "source": [
    "The first step in extracting features from an image is loading in the image"
   ]
  },
  {
   "cell_type": "code",
   "execution_count": null,
   "metadata": {},
   "outputs": [],
   "source": [
    "from PIL import Image\n",
    "\n",
    "path_to_image = './Images/Dog.jpg'\n",
    "image = Image.open(path_to_image)\n",
    "image.show()\n",
    "\n",
    "def open_image(image_path):\n",
    "    image = Image.open(image_path)\n",
    "    return image"
   ]
  },
  {
   "cell_type": "code",
   "execution_count": null,
   "metadata": {},
   "outputs": [],
   "source": [
    "# Import the resnet model\n",
    "from torchvision import models\n",
    "model = models.resnet101(pretrained=True)\n",
    "model.eval()\n",
    "\n",
    "# Import the image transform module\n",
    "from torchvision import transforms\n",
    "preprocess = transforms.Compose([\n",
    "    transforms.Resize(256),\n",
    "    transforms.CenterCrop(224),\n",
    "    transforms.ToTensor(),\n",
    "    transforms.Normalize(\n",
    "        mean=[0.485, 0.456, 0.406],\n",
    "        std=[0.229, 0.224, 0.225]\n",
    "    )\n",
    "])\n",
    "\n",
    "# Preprocess the image\n",
    "image = open_image(path_to_image)\n",
    "image = preprocess(image)\n",
    "image = image.unsqueeze(0)\n",
    "\n",
    "# Make a prediction\n",
    "output = model(image)\n",
    "print(output.argmax())\n",
    "\n",
    "# Get the labels\n",
    "import requests\n",
    "LABELS_URL = 'https://raw.githubusercontent.com/anishathalye/imagenet-simple-labels/master/imagenet-simple-labels.json'\n",
    "labels = requests.get(LABELS_URL).json()\n",
    "\n",
    "# Get the label\n",
    "label = labels[output.argmax()]\n",
    "print(label)\n",
    "\n",
    "# Get the probability\n",
    "import torch.nn.functional as F\n",
    "probability = F.softmax(output, dim=1)[0][output.argmax()].item()\n",
    "print(probability)\n",
    "\n",
    "# Display the image\n",
    "import matplotlib.pyplot as plt\n",
    "import numpy as np\n",
    "image = image.squeeze(0)\n",
    "image = image.numpy()\n",
    "image = np.transpose(image, (1, 2, 0))\n",
    "image = np.clip(image, 0, 1)\n",
    "plt.imshow(image)\n",
    "plt.title(f'{label} ({probability * 100:.2f}%)')\n",
    "plt.show()\n",
    "\n"
   ]
  },
  {
   "cell_type": "markdown",
   "metadata": {},
   "source": [
    "## Text generation from features"
   ]
  },
  {
   "cell_type": "code",
   "execution_count": null,
   "metadata": {},
   "outputs": [],
   "source": [
    "# tekst"
   ]
  },
  {
   "cell_type": "markdown",
   "metadata": {},
   "source": [
    "## Afterwards (bonus)\n",
    "we do a API call to a model to see if the text generated is correct or not. This will allow us to see the accuracy of our model."
   ]
  },
  {
   "cell_type": "markdown",
   "metadata": {},
   "source": []
  }
 ],
 "metadata": {
  "kernelspec": {
   "display_name": "Python 3",
   "language": "python",
   "name": "python3"
  },
  "language_info": {
   "codemirror_mode": {
    "name": "ipython",
    "version": 3
   },
   "file_extension": ".py",
   "mimetype": "text/x-python",
   "name": "python",
   "nbconvert_exporter": "python",
   "pygments_lexer": "ipython3",
   "version": "3.12.6"
  }
 },
 "nbformat": 4,
 "nbformat_minor": 2
}
